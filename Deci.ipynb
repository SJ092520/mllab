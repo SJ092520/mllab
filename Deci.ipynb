{
 "cells": [
  {
   "cell_type": "code",
   "execution_count": 1,
   "metadata": {},
   "outputs": [
    {
     "data": {
      "text/html": [
       "<div>\n",
       "<style scoped>\n",
       "    .dataframe tbody tr th:only-of-type {\n",
       "        vertical-align: middle;\n",
       "    }\n",
       "\n",
       "    .dataframe tbody tr th {\n",
       "        vertical-align: top;\n",
       "    }\n",
       "\n",
       "    .dataframe thead th {\n",
       "        text-align: right;\n",
       "    }\n",
       "</style>\n",
       "<table border=\"1\" class=\"dataframe\">\n",
       "  <thead>\n",
       "    <tr style=\"text-align: right;\">\n",
       "      <th></th>\n",
       "      <th>Income</th>\n",
       "      <th>Recreation</th>\n",
       "      <th>Job</th>\n",
       "      <th>Status</th>\n",
       "      <th>Age-group</th>\n",
       "      <th>home-owner</th>\n",
       "      <th>credit worthiness</th>\n",
       "    </tr>\n",
       "  </thead>\n",
       "  <tbody>\n",
       "    <tr>\n",
       "      <td>0</td>\n",
       "      <td>M</td>\n",
       "      <td>skiing</td>\n",
       "      <td>design</td>\n",
       "      <td>single</td>\n",
       "      <td>Twenties</td>\n",
       "      <td>no</td>\n",
       "      <td>highRisk</td>\n",
       "    </tr>\n",
       "    <tr>\n",
       "      <td>1</td>\n",
       "      <td>H</td>\n",
       "      <td>golf</td>\n",
       "      <td>trading</td>\n",
       "      <td>married</td>\n",
       "      <td>Forties</td>\n",
       "      <td>yes</td>\n",
       "      <td>lowRisk</td>\n",
       "    </tr>\n",
       "    <tr>\n",
       "      <td>2</td>\n",
       "      <td>L</td>\n",
       "      <td>speedway</td>\n",
       "      <td>transport</td>\n",
       "      <td>married</td>\n",
       "      <td>Thirties</td>\n",
       "      <td>yes</td>\n",
       "      <td>medRisk</td>\n",
       "    </tr>\n",
       "    <tr>\n",
       "      <td>3</td>\n",
       "      <td>M</td>\n",
       "      <td>football</td>\n",
       "      <td>banking</td>\n",
       "      <td>single</td>\n",
       "      <td>Thirties</td>\n",
       "      <td>yes</td>\n",
       "      <td>lowRisk</td>\n",
       "    </tr>\n",
       "    <tr>\n",
       "      <td>4</td>\n",
       "      <td>H</td>\n",
       "      <td>flying</td>\n",
       "      <td>media</td>\n",
       "      <td>married</td>\n",
       "      <td>Fifties</td>\n",
       "      <td>yes</td>\n",
       "      <td>highRisk</td>\n",
       "    </tr>\n",
       "    <tr>\n",
       "      <td>5</td>\n",
       "      <td>L</td>\n",
       "      <td>football</td>\n",
       "      <td>security</td>\n",
       "      <td>single</td>\n",
       "      <td>Twenties</td>\n",
       "      <td>no</td>\n",
       "      <td>medRisk</td>\n",
       "    </tr>\n",
       "    <tr>\n",
       "      <td>6</td>\n",
       "      <td>M</td>\n",
       "      <td>golf</td>\n",
       "      <td>media</td>\n",
       "      <td>single</td>\n",
       "      <td>Thirties</td>\n",
       "      <td>yes</td>\n",
       "      <td>medRisk</td>\n",
       "    </tr>\n",
       "    <tr>\n",
       "      <td>7</td>\n",
       "      <td>M</td>\n",
       "      <td>golf</td>\n",
       "      <td>transport</td>\n",
       "      <td>married</td>\n",
       "      <td>Forties</td>\n",
       "      <td>yes</td>\n",
       "      <td>lowRisk</td>\n",
       "    </tr>\n",
       "    <tr>\n",
       "      <td>8</td>\n",
       "      <td>H</td>\n",
       "      <td>skiing</td>\n",
       "      <td>banking</td>\n",
       "      <td>single</td>\n",
       "      <td>Thirties</td>\n",
       "      <td>yes</td>\n",
       "      <td>highRisk</td>\n",
       "    </tr>\n",
       "    <tr>\n",
       "      <td>9</td>\n",
       "      <td>L</td>\n",
       "      <td>golf</td>\n",
       "      <td>unemployed</td>\n",
       "      <td>married</td>\n",
       "      <td>Forties</td>\n",
       "      <td>yes</td>\n",
       "      <td>highRisk</td>\n",
       "    </tr>\n",
       "  </tbody>\n",
       "</table>\n",
       "</div>"
      ],
      "text/plain": [
       "  Income Recreation         Job   Status Age-group home-owner  \\\n",
       "0      M     skiing      design   single  Twenties         no   \n",
       "1      H       golf     trading  married   Forties        yes   \n",
       "2      L   speedway   transport  married  Thirties        yes   \n",
       "3      M   football     banking   single  Thirties        yes   \n",
       "4      H     flying       media  married   Fifties        yes   \n",
       "5      L   football    security   single  Twenties         no   \n",
       "6      M       golf       media   single  Thirties        yes   \n",
       "7      M       golf   transport  married   Forties        yes   \n",
       "8      H     skiing     banking   single  Thirties        yes   \n",
       "9      L       golf  unemployed  married   Forties        yes   \n",
       "\n",
       "  credit worthiness  \n",
       "0          highRisk  \n",
       "1           lowRisk  \n",
       "2           medRisk  \n",
       "3           lowRisk  \n",
       "4          highRisk  \n",
       "5           medRisk  \n",
       "6           medRisk  \n",
       "7           lowRisk  \n",
       "8          highRisk  \n",
       "9          highRisk  "
      ]
     },
     "execution_count": 1,
     "metadata": {},
     "output_type": "execute_result"
    }
   ],
   "source": [
    "import pandas as pd\n",
    "import matplotlib.pyplot as plt\n",
    "data=pd.read_csv('data.csv')\n",
    "data.head(10)"
   ]
  },
  {
   "cell_type": "code",
   "execution_count": 2,
   "metadata": {},
   "outputs": [
    {
     "data": {
      "text/plain": [
       "array([['M', 'skiing', 'design', 'single', 'Twenties', 'no'],\n",
       "       ['H', 'golf', 'trading', 'married', 'Forties', 'yes'],\n",
       "       ['L', 'speedway', 'transport', 'married', 'Thirties', 'yes'],\n",
       "       ['M', 'football', 'banking', 'single', 'Thirties', 'yes'],\n",
       "       ['H', 'flying', 'media', 'married', 'Fifties', 'yes'],\n",
       "       ['L', 'football', 'security', 'single', 'Twenties', 'no'],\n",
       "       ['M', 'golf', 'media', 'single', 'Thirties', 'yes'],\n",
       "       ['M', 'golf', 'transport', 'married', 'Forties', 'yes'],\n",
       "       ['H', 'skiing', 'banking', 'single', 'Thirties', 'yes'],\n",
       "       ['L', 'golf', 'unemployed', 'married', 'Forties', 'yes']],\n",
       "      dtype=object)"
      ]
     },
     "execution_count": 2,
     "metadata": {},
     "output_type": "execute_result"
    }
   ],
   "source": [
    "x=data.iloc[:,0:6].values\n",
    "x\n"
   ]
  },
  {
   "cell_type": "code",
   "execution_count": 3,
   "metadata": {},
   "outputs": [
    {
     "data": {
      "text/plain": [
       "array([['highRisk'],\n",
       "       ['lowRisk'],\n",
       "       ['medRisk'],\n",
       "       ['lowRisk'],\n",
       "       ['highRisk'],\n",
       "       ['medRisk'],\n",
       "       ['medRisk'],\n",
       "       ['lowRisk'],\n",
       "       ['highRisk'],\n",
       "       ['highRisk']], dtype=object)"
      ]
     },
     "execution_count": 3,
     "metadata": {},
     "output_type": "execute_result"
    }
   ],
   "source": [
    "y=data.iloc[:,6:].values\n",
    "y"
   ]
  },
  {
   "cell_type": "code",
   "execution_count": 25,
   "metadata": {},
   "outputs": [
    {
     "data": {
      "text/plain": [
       "array([[2, 3, 1, 1, 3, 0],\n",
       "       [0, 2, 4, 0, 1, 1],\n",
       "       [1, 4, 5, 0, 2, 1],\n",
       "       [2, 1, 0, 1, 2, 1],\n",
       "       [0, 0, 2, 0, 0, 1],\n",
       "       [1, 1, 3, 1, 3, 0],\n",
       "       [2, 2, 2, 1, 2, 1],\n",
       "       [2, 2, 5, 0, 1, 1],\n",
       "       [0, 3, 0, 1, 2, 1],\n",
       "       [1, 2, 6, 0, 1, 1]], dtype=object)"
      ]
     },
     "execution_count": 25,
     "metadata": {},
     "output_type": "execute_result"
    }
   ],
   "source": [
    "from sklearn.preprocessing import LabelEncoder, OneHotEncoder\n",
    "l=LabelEncoder()\n",
    "x[:,0]=l.fit_transform(x[:,0])\n",
    "x[:,1]=l.fit_transform(x[:,1])\n",
    "x[:,2]=l.fit_transform(x[:,2])\n",
    "x[:,3]=l.fit_transform(x[:,3])\n",
    "x[:,4]=l.fit_transform(x[:,4])\n",
    "x[:,5]=l.fit_transform(x[:,5])\n",
    "x"
   ]
  },
  {
   "cell_type": "code",
   "execution_count": 26,
   "metadata": {},
   "outputs": [
    {
     "data": {
      "text/plain": [
       "array([['highRisk'],\n",
       "       ['lowRisk'],\n",
       "       ['medRisk'],\n",
       "       ['lowRisk'],\n",
       "       ['highRisk'],\n",
       "       ['medRisk'],\n",
       "       ['medRisk'],\n",
       "       ['lowRisk'],\n",
       "       ['highRisk'],\n",
       "       ['highRisk']], dtype=object)"
      ]
     },
     "execution_count": 26,
     "metadata": {},
     "output_type": "execute_result"
    }
   ],
   "source": [
    "\n",
    "y"
   ]
  },
  {
   "cell_type": "code",
   "execution_count": 28,
   "metadata": {},
   "outputs": [
    {
     "data": {
      "text/plain": [
       "array([['lowRisk'],\n",
       "       ['highRisk'],\n",
       "       ['highRisk'],\n",
       "       ['highRisk'],\n",
       "       ['medRisk'],\n",
       "       ['lowRisk'],\n",
       "       ['lowRisk'],\n",
       "       ['medRisk']], dtype=object)"
      ]
     },
     "execution_count": 28,
     "metadata": {},
     "output_type": "execute_result"
    }
   ],
   "source": [
    "from sklearn.model_selection import train_test_split\n",
    "x_train,x_test,y_train,y_test=train_test_split(x,y,test_size=0.2)\n",
    "y_train"
   ]
  },
  {
   "cell_type": "code",
   "execution_count": 29,
   "metadata": {},
   "outputs": [
    {
     "data": {
      "text/plain": [
       "DecisionTreeClassifier(class_weight=None, criterion='entropy', max_depth=None,\n",
       "                       max_features=None, max_leaf_nodes=None,\n",
       "                       min_impurity_decrease=0.0, min_impurity_split=None,\n",
       "                       min_samples_leaf=1, min_samples_split=2,\n",
       "                       min_weight_fraction_leaf=0.0, presort=False,\n",
       "                       random_state=None, splitter='best')"
      ]
     },
     "execution_count": 29,
     "metadata": {},
     "output_type": "execute_result"
    }
   ],
   "source": [
    "import sklearn.tree as tree\n",
    "dc=tree.DecisionTreeClassifier(criterion='entropy')\n",
    "dc.fit(x_train,y_train)\n"
   ]
  },
  {
   "cell_type": "code",
   "execution_count": 30,
   "metadata": {},
   "outputs": [
    {
     "data": {
      "text/plain": [
       "array([['highRisk'],\n",
       "       ['medRisk']], dtype=object)"
      ]
     },
     "execution_count": 30,
     "metadata": {},
     "output_type": "execute_result"
    }
   ],
   "source": [
    "y_test"
   ]
  },
  {
   "cell_type": "code",
   "execution_count": 31,
   "metadata": {},
   "outputs": [
    {
     "data": {
      "text/plain": [
       "array(['lowRisk', 'lowRisk'], dtype=object)"
      ]
     },
     "execution_count": 31,
     "metadata": {},
     "output_type": "execute_result"
    }
   ],
   "source": [
    "y_pred=dc.predict(x_test)\n",
    "y_pred"
   ]
  },
  {
   "cell_type": "code",
   "execution_count": 32,
   "metadata": {},
   "outputs": [
    {
     "data": {
      "text/plain": [
       "0.0"
      ]
     },
     "execution_count": 32,
     "metadata": {},
     "output_type": "execute_result"
    }
   ],
   "source": [
    "from sklearn.metrics import accuracy_score\n",
    "accuracy_score(y_test,y_pred)"
   ]
  },
  {
   "cell_type": "code",
   "execution_count": 33,
   "metadata": {},
   "outputs": [],
   "source": [
    "from sklearn.tree import export_graphviz\n",
    "export_graphviz(dc, out_file ='tree.dot',\n",
    "feature_names = [\"income\",\"recreation\",\"job\",\"status\",\"age-group\",\"home-owner\"], class_names = ['0','1','2'], rounded = True, proportion = False, precision = 2, filled = True)"
   ]
  },
  {
   "cell_type": "code",
   "execution_count": null,
   "metadata": {},
   "outputs": [],
   "source": []
  }
 ],
 "metadata": {
  "kernelspec": {
   "display_name": "Python 3",
   "language": "python",
   "name": "python3"
  },
  "language_info": {
   "codemirror_mode": {
    "name": "ipython",
    "version": 3
   },
   "file_extension": ".py",
   "mimetype": "text/x-python",
   "name": "python",
   "nbconvert_exporter": "python",
   "pygments_lexer": "ipython3",
   "version": "3.7.4"
  }
 },
 "nbformat": 4,
 "nbformat_minor": 2
}
